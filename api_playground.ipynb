{
 "cells": [
  {
   "cell_type": "code",
   "execution_count": 35,
   "outputs": [],
   "source": [
    "# Setup\n",
    "import requests\n",
    "import pandas as pd\n",
    "API_URL = 'http://127.0.0.1:5000/api'\n",
    "sample_data = pd.DataFrame(\n",
    "    [\n",
    "        {'id': 1, 'name': 'BoJack Horseman'},\n",
    "        {'id': 2, 'name': 'Mr Peanutbutter'}\n",
    "    ]\n",
    ")"
   ],
   "metadata": {
    "collapsed": false,
    "pycharm": {
     "name": "#%%\n"
    }
   }
  },
  {
   "cell_type": "code",
   "execution_count": 37,
   "metadata": {
    "collapsed": true
   },
   "outputs": [
    {
     "name": "stderr",
     "output_type": "stream",
     "text": [
      "/Users/oscarbatori/anaconda3/envs/doltpy-dev/lib/python3.8/site-packages/pandas/core/frame.py:1485: FutureWarning: Using short name for 'orient' is deprecated. Only the options: ('dict', list, 'series', 'split', 'records', 'index') will be used in a future version. Use one of the above to silence this warning.\n",
      "  warnings.warn(\n"
     ]
    }
   ],
   "source": [
    "# Create a table\n",
    "payload = {\n",
    "    'branch': 'new-branch',\n",
    "    'table': 'characters',\n",
    "    'primary_keys': ['id'],\n",
    "    'data': sample_data.to_dict('rows')\n",
    "}\n",
    "result = requests.post('{}/create_table'.format(API_URL), json=payload)"
   ]
  },
  {
   "cell_type": "code",
   "execution_count": 34,
   "outputs": [
    {
     "name": "stderr",
     "output_type": "stream",
     "text": [
      "/Users/oscarbatori/anaconda3/envs/doltpy-dev/lib/python3.8/site-packages/pandas/core/frame.py:1485: FutureWarning: Using short name for 'orient' is deprecated. Only the options: ('dict', list, 'series', 'split', 'records', 'index') will be used in a future version. Use one of the above to silence this warning.\n",
      "  warnings.warn(\n"
     ]
    },
    {
     "name": "stdout",
     "output_type": "stream",
     "text": [
      "[{'id': 1, 'name': 'BoJack Horseman'}, {'id': 2, 'name': 'Mr Peanutbutter'}]\n"
     ]
    }
   ],
   "source": [
    "# Read a table\n",
    "payload = {\n",
    "    'branch': 'new-branch',\n",
    "    'table': 'characters',\n",
    "    'data': sample_data.to_dict('rows')\n",
    "}\n",
    "data = requests.get('{}/read_table'.format(API_URL), json=payload)\n",
    "\n",
    "print(data.json())"
   ],
   "metadata": {
    "collapsed": false,
    "pycharm": {
     "name": "#%%\n"
    }
   }
  },
  {
   "cell_type": "code",
   "execution_count": null,
   "outputs": [],
   "source": [
    "# Update a table\n",
    "additional_data = pd.DataFrame(\n",
    "    [\n",
    "        {'id': 3, 'name': 'Princess Caroline'}\n",
    "    ]\n",
    ")\n",
    "\n",
    "payload = {\n",
    "    'branch': 'new-branch',\n",
    "    'table': 'characters',\n",
    "    'data': additional_data.to_dict('rows')\n",
    "}\n",
    "data = requests.get('{}/update_table'.format(API_URL), json=payload)"
   ],
   "metadata": {
    "collapsed": false,
    "pycharm": {
     "name": "#%%\n"
    }
   }
  }
 ],
 "metadata": {
  "kernelspec": {
   "display_name": "Python 3",
   "language": "python",
   "name": "python3"
  },
  "language_info": {
   "codemirror_mode": {
    "name": "ipython",
    "version": 2
   },
   "file_extension": ".py",
   "mimetype": "text/x-python",
   "name": "python",
   "nbconvert_exporter": "python",
   "pygments_lexer": "ipython2",
   "version": "2.7.6"
  }
 },
 "nbformat": 4,
 "nbformat_minor": 0
}